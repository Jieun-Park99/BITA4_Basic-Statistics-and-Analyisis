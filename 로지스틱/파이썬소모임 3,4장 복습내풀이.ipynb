{
 "cells": [
  {
   "cell_type": "code",
   "execution_count": 2,
   "metadata": {},
   "outputs": [],
   "source": [
    "f = open(\"1984.txt\", 'r')"
   ]
  },
  {
   "cell_type": "code",
   "execution_count": 5,
   "metadata": {},
   "outputs": [
    {
     "ename": "ModuleNotFoundError",
     "evalue": "No module named 'file_io_example'",
     "output_type": "error",
     "traceback": [
      "\u001b[1;31m---------------------------------------------------------------------------\u001b[0m",
      "\u001b[1;31mModuleNotFoundError\u001b[0m                       Traceback (most recent call last)",
      "\u001b[1;32m<ipython-input-5-cea502adc23a>\u001b[0m in \u001b[0;36m<module>\u001b[1;34m\u001b[0m\n\u001b[1;32m----> 1\u001b[1;33m \u001b[1;32mimport\u001b[0m \u001b[0mfile_io_example\u001b[0m \u001b[1;32mas\u001b[0m \u001b[0mfie\u001b[0m\u001b[1;33m\u001b[0m\u001b[1;33m\u001b[0m\u001b[0m\n\u001b[0m",
      "\u001b[1;31mModuleNotFoundError\u001b[0m: No module named 'file_io_example'"
     ]
    }
   ],
   "source": [
    "import file_io_example as fie"
   ]
  },
  {
   "cell_type": "code",
   "execution_count": 6,
   "metadata": {},
   "outputs": [],
   "source": [
    "# 무슨소리쥐"
   ]
  },
  {
   "cell_type": "code",
   "execution_count": 11,
   "metadata": {},
   "outputs": [],
   "source": [
    "# 2번\n",
    "import numpy as np\n",
    "ex = np.array([[[0,1,2],[3,4,5]],[[6,7,8],[9,10,11]]])"
   ]
  },
  {
   "cell_type": "code",
   "execution_count": 12,
   "metadata": {},
   "outputs": [
    {
     "data": {
      "text/plain": [
       "(2, 2, 3)"
      ]
     },
     "execution_count": 12,
     "metadata": {},
     "output_type": "execute_result"
    }
   ],
   "source": [
    "ex.shape"
   ]
  },
  {
   "cell_type": "code",
   "execution_count": 17,
   "metadata": {},
   "outputs": [
    {
     "data": {
      "text/plain": [
       "array([[[ 0,  3],\n",
       "        [ 1,  4],\n",
       "        [ 2,  5]],\n",
       "\n",
       "       [[ 6,  9],\n",
       "        [ 7, 10],\n",
       "        [ 8, 11]]])"
      ]
     },
     "execution_count": 17,
     "metadata": {},
     "output_type": "execute_result"
    }
   ],
   "source": [
    "x = ex.transpose(0,2,1)\n",
    "x"
   ]
  },
  {
   "cell_type": "code",
   "execution_count": 58,
   "metadata": {},
   "outputs": [
    {
     "data": {
      "text/plain": [
       "array([-0.00626961,  0.14423066,  1.97943127, -0.9712113 ,  0.63461517,\n",
       "       -0.04515992, -0.00404892,  0.01243455,  0.73873907,  0.42532734,\n",
       "       -0.54040962, -1.25408354, -1.15649709,  0.88242867, -0.54296425,\n",
       "       -1.19021727, -0.21659321,  0.57632124, -0.35727641, -0.9296776 ,\n",
       "       -2.15284061,  0.85472339,  0.43622111,  0.98423928, -0.31733824,\n",
       "       -0.90069298, -0.59445177,  1.02454719,  1.25714097,  0.2720717 ,\n",
       "       -1.52001931,  1.15966814,  1.71716902,  0.85254393, -1.09241641,\n",
       "        1.01096033,  1.81294263,  1.07712498,  0.34825137, -0.3100283 ,\n",
       "        0.3817284 , -0.3742505 ,  0.12236448, -0.18079995, -0.59125023,\n",
       "       -0.85986218, -0.03412064, -0.91792629, -1.41597891, -1.36347676,\n",
       "        1.06291748, -1.52338604, -1.17583827, -0.4624851 ,  0.46789694,\n",
       "        0.55105998,  0.18822209, -0.76722769,  0.49984043, -0.86885648,\n",
       "       -0.61355449, -0.38105797,  0.90311841, -0.11392971,  1.1240074 ,\n",
       "        0.28604646,  0.85177096, -0.69180167, -0.63441959,  0.80595283,\n",
       "        1.25888097, -0.97542476,  0.04549904,  0.90444014, -0.90235665,\n",
       "        1.2881846 ,  0.48580918,  0.32751649, -1.71619316,  0.73648185,\n",
       "        1.47227017, -0.02218417,  0.73110825,  0.65979099,  0.11084579,\n",
       "       -0.76782385,  1.81134831, -1.16741361, -2.57565813, -0.81362136,\n",
       "       -0.40341853,  0.75944128, -0.92995653,  0.40838365, -1.29995486,\n",
       "       -0.79206763, -0.19859485, -1.40427453, -0.91375648, -0.71718736])"
      ]
     },
     "execution_count": 58,
     "metadata": {},
     "output_type": "execute_result"
    }
   ],
   "source": [
    "# 3번\n",
    "import matplotlib.pyplot as plt\n",
    "np.random.seed(826)\n",
    "mu,sigma =0,1\n",
    "data = np.random.normal(mu,sigma,100)\n",
    "data"
   ]
  },
  {
   "cell_type": "code",
   "execution_count": 64,
   "metadata": {},
   "outputs": [
    {
     "data": {
      "text/plain": [
       "(array([0.04390693, 0.02195347, 0.15367426, 0.41711585, 0.32930199,\n",
       "        0.30734852, 0.30734852, 0.37320892, 0.15367426, 0.08781386]),\n",
       " array([-2.57565813, -2.12014919, -1.66464025, -1.20913131, -0.75362237,\n",
       "        -0.29811343,  0.15739551,  0.61290445,  1.06841339,  1.52392233,\n",
       "         1.97943127]),\n",
       " <a list of 10 Patch objects>)"
      ]
     },
     "execution_count": 64,
     "metadata": {},
     "output_type": "execute_result"
    },
    {
     "data": {
      "image/png": "[encoded data removed]",
      "text/plain": [
       "<Figure size 432x288 with 1 Axes>"
      ]
     },
     "metadata": {
      "needs_background": "light"
     },
     "output_type": "display_data"
    }
   ],
   "source": [
    "plt.hist(data,10,density=True,facecolor='g')"
   ]
  },
  {
   "cell_type": "code",
   "execution_count": 49,
   "metadata": {},
   "outputs": [
    {
     "data": {
      "text/plain": [
       "[<matplotlib.lines.Line2D at 0x1f8d2acb438>]"
      ]
     },
     "execution_count": 49,
     "metadata": {},
     "output_type": "execute_result"
    },
    {
     "data": {
      "image/png": "[encoded data removed]",
      "text/plain": [
       "<Figure size 432x288 with 1 Axes>"
      ]
     },
     "metadata": {
      "needs_background": "light"
     },
     "output_type": "display_data"
    }
   ],
   "source": [
    "plt.plot(data,color='g')"
   ]
  },
  {
   "cell_type": "code",
   "execution_count": 41,
   "metadata": {},
   "outputs": [
    {
     "data": {
      "text/plain": [
       "array([[ 0,  1,  2,  3,  4,  5],\n",
       "       [ 6,  7,  8,  9, 10, 11],\n",
       "       [12, 13, 14, 15, 16, 17],\n",
       "       [18, 19, 20, 21, 22, 23],\n",
       "       [24, 25, 26, 27, 28, 29]])"
      ]
     },
     "execution_count": 41,
     "metadata": {},
     "output_type": "execute_result"
    }
   ],
   "source": [
    "# 4번\n",
    "a1 = np.arange(0,30).reshape((5,6))\n",
    "a1"
   ]
  },
  {
   "cell_type": "code",
   "execution_count": 42,
   "metadata": {},
   "outputs": [],
   "source": [
    "even_arr = a1 % 2 ==0"
   ]
  },
  {
   "cell_type": "code",
   "execution_count": 46,
   "metadata": {},
   "outputs": [],
   "source": [
    "indexarr = a1[even_arr].reshape((3,5))"
   ]
  },
  {
   "cell_type": "code",
   "execution_count": 47,
   "metadata": {},
   "outputs": [
    {
     "data": {
      "text/plain": [
       "array([[ 0,  2,  4,  6,  8],\n",
       "       [10, 12, 14, 16, 18],\n",
       "       [20, 22, 24, 26, 28]])"
      ]
     },
     "execution_count": 47,
     "metadata": {},
     "output_type": "execute_result"
    }
   ],
   "source": [
    "indexarr"
   ]
  },
  {
   "cell_type": "code",
   "execution_count": 2,
   "metadata": {},
   "outputs": [
    {
     "name": "stdout",
     "output_type": "stream",
     "text": [
      "Collecting file_io_example\n"
     ]
    },
    {
     "name": "stderr",
     "output_type": "stream",
     "text": [
      "  ERROR: Could not find a version that satisfies the requirement file_io_example (from versions: none)\n",
      "ERROR: No matching distribution found for file_io_example\n"
     ]
    }
   ],
   "source": [
    "!pip install file_io_example"
   ]
  },
  {
   "cell_type": "code",
   "execution_count": 3,
   "metadata": {},
   "outputs": [
    {
     "ename": "ModuleNotFoundError",
     "evalue": "No module named 'file_io_example'",
     "output_type": "error",
     "traceback": [
      "\u001b[1;31m---------------------------------------------------------------------------\u001b[0m",
      "\u001b[1;31mModuleNotFoundError\u001b[0m                       Traceback (most recent call last)",
      "\u001b[1;32m<ipython-input-3-cea502adc23a>\u001b[0m in \u001b[0;36m<module>\u001b[1;34m\u001b[0m\n\u001b[1;32m----> 1\u001b[1;33m \u001b[1;32mimport\u001b[0m \u001b[0mfile_io_example\u001b[0m \u001b[1;32mas\u001b[0m \u001b[0mfie\u001b[0m\u001b[1;33m\u001b[0m\u001b[1;33m\u001b[0m\u001b[0m\n\u001b[0m",
      "\u001b[1;31mModuleNotFoundError\u001b[0m: No module named 'file_io_example'"
     ]
    }
   ],
   "source": []
  },
  {
   "cell_type": "code",
   "execution_count": null,
   "metadata": {},
   "outputs": [],
   "source": []
  }
 ],
 "metadata": {
  "kernelspec": {
   "display_name": "Python 3",
   "language": "python",
   "name": "python3"
  },
  "language_info": {
   "codemirror_mode": {
    "name": "ipython",
    "version": 3
   },
   "file_extension": ".py",
   "mimetype": "text/x-python",
   "name": "python",
   "nbconvert_exporter": "python",
   "pygments_lexer": "ipython3",
   "version": "3.7.3"
  }
 },
 "nbformat": 4,
 "nbformat_minor": 2
}
